{
 "cells": [
  {
   "cell_type": "code",
   "execution_count": 2,
   "metadata": {
    "collapsed": true
   },
   "outputs": [],
   "source": [
    "from IPython.display import HTML\n",
    "from unicodedata import normalize\n",
    "import pandas as pd\n",
    "import numpy as np"
   ]
  },
  {
   "cell_type": "code",
   "execution_count": null,
   "metadata": {
    "collapsed": true
   },
   "outputs": [],
   "source": [
    "example = pd.read_json('example.json')\n",
    "data = pd.read_json('data.json')\n",
    "mini_data = data.sample(n=500)\n",
    "fraud_data = data[(data['acct_type'] == 'fraudster') | (data['acct_type'] == 'fraudster_event')]"
   ]
  },
  {
   "cell_type": "markdown",
   "metadata": {},
   "source": [
    "## Parsing ticket data"
   ]
  },
  {
   "cell_type": "code",
   "execution_count": 53,
   "metadata": {},
   "outputs": [
    {
     "ename": "ZeroDivisionError",
     "evalue": "integer division or modulo by zero",
     "output_type": "error",
     "traceback": [
      "\u001b[0;31m---------------------------------------------------------------------------\u001b[0m",
      "\u001b[0;31mZeroDivisionError\u001b[0m                         Traceback (most recent call last)",
      "\u001b[0;32m<ipython-input-53-de9f55fcdbfd>\u001b[0m in \u001b[0;36m<module>\u001b[0;34m()\u001b[0m\n\u001b[0;32m----> 1\u001b[0;31m \u001b[0mmax\u001b[0m\u001b[0;34m(\u001b[0m\u001b[0;36m0\u001b[0m\u001b[0;34m/\u001b[0m\u001b[0;36m0\u001b[0m\u001b[0;34m,\u001b[0m \u001b[0;36m1\u001b[0m\u001b[0;34m)\u001b[0m\u001b[0;34m\u001b[0m\u001b[0m\n\u001b[0m",
      "\u001b[0;31mZeroDivisionError\u001b[0m: integer division or modulo by zero"
     ]
    }
   ],
   "source": [
    "max(0/0, 1)"
   ]
  },
  {
   "cell_type": "code",
   "execution_count": 52,
   "metadata": {},
   "outputs": [
    {
     "name": "stdout",
     "output_type": "stream",
     "text": [
      "1940857 1 82.99 30.0 0.1\n",
      "1089527 1 15.0 10.0 0.2\n",
      "5832923 1 13.18 25.0 0.04\n",
      "7210055 1 100.0 100.0 0.55\n",
      "6703123 4 3.5 80.0 0.183333333333\n",
      "2183264 1 0.0 10.0 1.0\n",
      "1902619 1 10.0 100.0 0.34\n",
      "4891381 1 27.21 100.0 0.0\n",
      "1306087 1 14.0 420.0 0.207142857143\n",
      "5425516 1 70.26 46.0 0.608695652174\n",
      "6283743 1 10.0 150.0 0.0133333333333\n",
      "5414758 1 20.0 50.0 0.02\n",
      "2743841 3 131.306666667 400.0 0.114166666667\n",
      "7824559 1 22.63 40.0 1.0\n",
      "7287023 2 23.815 112.5 0.238\n",
      "5153240 2 15.8 20.0 0.5\n",
      "6210749 2 37.5 12.5 0.375\n",
      "2992423 5 61.39 30.0 0.113333333333\n",
      "6593489 2 11.255 1000.0 0.0395\n",
      "8454627 2 50.985 10.0 0.65\n",
      "7790357 3 71.4066666667 43.3333333333 0.0666666666667\n",
      "7168221 4 20.9875 20.0 0.125\n",
      "7241525 1 32.08 300.0 0.38\n",
      "2576918 12 32.8691666667 56.6666666667 0.117916666667\n",
      "6065261 1 550.0 20.0 0.05\n",
      "2070695 2 4.86 55.0 0.360145647137\n",
      "2497426 4 7.47 10.0 0.4\n",
      "1416749 1 20.0 100.0 0.01\n",
      "4479362 1 6.0 500.0 0.016\n",
      "4403868 2 65.465 12.5 0.333333333333\n",
      "4759285 3 221.666666667 47.3333333333 0.0\n",
      "3434079 6 389.643333333 151.333333333 0.0581666666667\n",
      "6964047 1 27.36 40.0 1.0\n",
      "6769855 3 138.333333333 1.33333333333 0.666666666667\n",
      "5027624 1 8.46 25.0 0.08\n",
      "4981530 1 95.0 115.0 0.0173913043478\n",
      "4710375 2 10.0 60.0 0.625\n",
      "7165141 1 10.0 100.0 0.11\n",
      "3101833 3 21.6666666667 76.6666666667 0.0177777777778\n",
      "6002709 2 13.5 70.0 0.5\n",
      "7734335 2 74.61 100.0 0.07\n",
      "4272764 1 6.0 50.0 0.54\n",
      "4989802 1 0.0 10.0 0.0\n"
     ]
    },
    {
     "ename": "ZeroDivisionError",
     "evalue": "float division by zero",
     "output_type": "error",
     "traceback": [
      "\u001b[0;31m---------------------------------------------------------------------------\u001b[0m",
      "\u001b[0;31mZeroDivisionError\u001b[0m                         Traceback (most recent call last)",
      "\u001b[0;32m<ipython-input-52-a2d9d4696c7d>\u001b[0m in \u001b[0;36m<module>\u001b[0;34m()\u001b[0m\n\u001b[1;32m      7\u001b[0m         \u001b[0mcosts\u001b[0m\u001b[0;34m.\u001b[0m\u001b[0mappend\u001b[0m\u001b[0;34m(\u001b[0m\u001b[0mticket\u001b[0m\u001b[0;34m[\u001b[0m\u001b[0;34m'cost'\u001b[0m\u001b[0;34m]\u001b[0m\u001b[0;34m)\u001b[0m\u001b[0;34m\u001b[0m\u001b[0m\n\u001b[1;32m      8\u001b[0m         \u001b[0mtotals\u001b[0m\u001b[0;34m.\u001b[0m\u001b[0mappend\u001b[0m\u001b[0;34m(\u001b[0m\u001b[0mticket\u001b[0m\u001b[0;34m[\u001b[0m\u001b[0;34m'quantity_total'\u001b[0m\u001b[0;34m]\u001b[0m\u001b[0;34m)\u001b[0m\u001b[0;34m\u001b[0m\u001b[0m\n\u001b[0;32m----> 9\u001b[0;31m         \u001b[0mfrac_sold\u001b[0m\u001b[0;34m.\u001b[0m\u001b[0mappend\u001b[0m\u001b[0;34m(\u001b[0m\u001b[0mfloat\u001b[0m\u001b[0;34m(\u001b[0m\u001b[0mticket\u001b[0m\u001b[0;34m[\u001b[0m\u001b[0;34m'quantity_sold'\u001b[0m\u001b[0;34m]\u001b[0m\u001b[0;34m)\u001b[0m\u001b[0;34m/\u001b[0m\u001b[0mticket\u001b[0m\u001b[0;34m[\u001b[0m\u001b[0;34m'quantity_total'\u001b[0m\u001b[0;34m]\u001b[0m\u001b[0;34m)\u001b[0m\u001b[0;34m\u001b[0m\u001b[0m\n\u001b[0m\u001b[1;32m     10\u001b[0m     \u001b[0;32mprint\u001b[0m \u001b[0mticket_type\u001b[0m\u001b[0;34m[\u001b[0m\u001b[0;36m0\u001b[0m\u001b[0;34m]\u001b[0m\u001b[0;34m[\u001b[0m\u001b[0;34m'event_id'\u001b[0m\u001b[0;34m]\u001b[0m\u001b[0;34m,\u001b[0m \u001b[0mnum_ticket_type\u001b[0m\u001b[0;34m,\u001b[0m \u001b[0mnp\u001b[0m\u001b[0;34m.\u001b[0m\u001b[0mmean\u001b[0m\u001b[0;34m(\u001b[0m\u001b[0mcosts\u001b[0m\u001b[0;34m)\u001b[0m\u001b[0;34m,\u001b[0m \u001b[0mnp\u001b[0m\u001b[0;34m.\u001b[0m\u001b[0mmean\u001b[0m\u001b[0;34m(\u001b[0m\u001b[0mtotals\u001b[0m\u001b[0;34m)\u001b[0m\u001b[0;34m,\u001b[0m \u001b[0mnp\u001b[0m\u001b[0;34m.\u001b[0m\u001b[0mmean\u001b[0m\u001b[0;34m(\u001b[0m\u001b[0mfrac_sold\u001b[0m\u001b[0;34m)\u001b[0m\u001b[0;34m\u001b[0m\u001b[0m\n\u001b[1;32m     11\u001b[0m     \u001b[0;31m##get # of ticket types\u001b[0m\u001b[0;34m\u001b[0m\u001b[0;34m\u001b[0m\u001b[0m\n",
      "\u001b[0;31mZeroDivisionError\u001b[0m: float division by zero"
     ]
    }
   ],
   "source": [
    "#Unpack mean and variation of costs, ticket totals, and fraction of tickets sold. Also grab event_id and number of ticket types\n",
    "for i, ticket_type in enumerate(mini_data.ticket_types):\n",
    "    num_ticket_type = len(ticket_type)\n",
    "    costs = []\n",
    "    totals = []\n",
    "    frac_sold = []\n",
    "    for ticket in ticket_type:\n",
    "        costs.append(ticket['cost'])\n",
    "        totals.append(ticket['quantity_total'])\n",
    "        frac_sold.append(float(ticket['quantity_sold'])/ticket['quantity_total'])\n",
    "    print ticket_type[0]['event_id'], num_ticket_type, np.mean(costs), np.mean(totals), np.mean(frac_sold)"
   ]
  },
  {
   "cell_type": "markdown",
   "metadata": {},
   "source": [
    "### Availability is always 1 or 2"
   ]
  },
  {
   "cell_type": "code",
   "execution_count": 44,
   "metadata": {},
   "outputs": [
    {
     "data": {
      "text/plain": [
       "{1, 2}"
      ]
     },
     "execution_count": 44,
     "metadata": {},
     "output_type": "execute_result"
    }
   ],
   "source": [
    "lst = []\n",
    "for i, ticket_type in enumerate(data.ticket_types):\n",
    "    for ticket in ticket_type:\n",
    "        lst.append(ticket['availability'])\n",
    "avail_set = set(lst)\n",
    "avail_set"
   ]
  },
  {
   "cell_type": "markdown",
   "metadata": {},
   "source": [
    "### Fraud event that is sold out with 1 ticket available"
   ]
  },
  {
   "cell_type": "code",
   "execution_count": 29,
   "metadata": {},
   "outputs": [
    {
     "data": {
      "text/plain": [
       "acct_type                                                     fraudster\n",
       "approx_payout_date                                           1305266400\n",
       "body_length                                                        4076\n",
       "channels                                                              0\n",
       "country                                                              GB\n",
       "currency                                                            GBP\n",
       "delivery_method                                                       1\n",
       "description           <ul>\\r\\n<li><font face=\"georgia,palatino\" size...\n",
       "email_domain                                         ultimatewine.co.uk\n",
       "event_created                                                1296638413\n",
       "event_end                                                    1304834400\n",
       "event_published                                             1.29664e+09\n",
       "event_start                                                  1304818200\n",
       "fb_published                                                          0\n",
       "gts                                                               50.87\n",
       "has_analytics                                                         0\n",
       "has_header                                                            1\n",
       "has_logo                                                              0\n",
       "listed                                                                n\n",
       "name                       Ultimate Wine Experience, London, 07/05/2011\n",
       "name_length                                                          44\n",
       "num_order                                                             1\n",
       "num_payouts                                                           7\n",
       "object_id                                                       1270287\n",
       "org_desc                                                               \n",
       "org_facebook                                                          0\n",
       "org_name                                                  Ultimate Wine\n",
       "org_twitter                                                           0\n",
       "payee_name                                                             \n",
       "payout_type                                                         ACH\n",
       "previous_payouts      [{u'name': u'', u'created': u'2011-02-27 01:12...\n",
       "sale_duration                                                        94\n",
       "sale_duration2                                                       94\n",
       "show_map                                                              1\n",
       "ticket_types          [{u'event_id': 1270287, u'cost': 102.74, u'ava...\n",
       "user_age                                                             20\n",
       "user_created                                                 1294935017\n",
       "user_type                                                             3\n",
       "venue_address                                                          \n",
       "venue_country                                                        GB\n",
       "venue_latitude                                                  51.5002\n",
       "venue_longitude                                               -0.126236\n",
       "venue_name                                 The Ultimate Wine Experience\n",
       "venue_state                                                      London\n",
       "Name: 3514, dtype: object"
      ]
     },
     "execution_count": 29,
     "metadata": {},
     "output_type": "execute_result"
    }
   ],
   "source": [
    "fraud_data.iloc[330, :]"
   ]
  },
  {
   "cell_type": "markdown",
   "metadata": {},
   "source": [
    "## Viewing Data"
   ]
  },
  {
   "cell_type": "code",
   "execution_count": 1,
   "metadata": {
    "collapsed": true
   },
   "outputs": [],
   "source": [
    "# HTML(example.to_html())\n",
    "\n",
    "# HTML(mini_data.to_html())\n",
    "\n",
    "# HTML(mini_data[mini_data.acct_type != 'premium'].to_html())"
   ]
  },
  {
   "cell_type": "code",
   "execution_count": 68,
   "metadata": {
    "collapsed": true
   },
   "outputs": [],
   "source": [
    "f = open('example_desc.html', 'w')\n",
    "f.write(normalize('NFKD', data.loc[0, 'description']))\n",
    "f.close()"
   ]
  },
  {
   "cell_type": "code",
   "execution_count": null,
   "metadata": {
    "collapsed": true
   },
   "outputs": [],
   "source": []
  }
 ],
 "metadata": {
  "kernelspec": {
   "display_name": "Python 2",
   "language": "python",
   "name": "python2"
  },
  "language_info": {
   "codemirror_mode": {
    "name": "ipython",
    "version": 2
   },
   "file_extension": ".py",
   "mimetype": "text/x-python",
   "name": "python",
   "nbconvert_exporter": "python",
   "pygments_lexer": "ipython2",
   "version": "2.7.13"
  }
 },
 "nbformat": 4,
 "nbformat_minor": 2
}
